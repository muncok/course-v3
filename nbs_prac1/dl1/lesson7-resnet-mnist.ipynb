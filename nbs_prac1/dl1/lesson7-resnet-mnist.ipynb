{
 "cells": [
  {
   "cell_type": "markdown",
   "metadata": {},
   "source": [
    "## MNIST CNN"
   ]
  },
  {
   "cell_type": "code",
   "execution_count": 1,
   "metadata": {},
   "outputs": [],
   "source": [
    "%reload_ext autoreload\n",
    "%autoreload 2\n",
    "%matplotlib inline"
   ]
  },
  {
   "cell_type": "code",
   "execution_count": 4,
   "metadata": {},
   "outputs": [],
   "source": [
    "from fastai.vision import *"
   ]
  },
  {
   "cell_type": "markdown",
   "metadata": {},
   "source": [
    "### Data"
   ]
  },
  {
   "cell_type": "code",
   "execution_count": 5,
   "metadata": {},
   "outputs": [],
   "source": [
    "path = untar_data(URLs.MNIST)"
   ]
  },
  {
   "cell_type": "code",
   "execution_count": 6,
   "metadata": {},
   "outputs": [
    {
     "data": {
      "text/plain": [
       "[PosixPath('/WORKSPACE/.fastai/data/mnist_png/training'),\n",
       " PosixPath('/WORKSPACE/.fastai/data/mnist_png/testing')]"
      ]
     },
     "execution_count": 6,
     "metadata": {},
     "output_type": "execute_result"
    }
   ],
   "source": [
    "path.ls()"
   ]
  },
  {
   "cell_type": "code",
   "execution_count": 7,
   "metadata": {},
   "outputs": [],
   "source": [
    "il = ImageList.from_folder(path, convert_mode='L')"
   ]
  },
  {
   "cell_type": "code",
   "execution_count": 8,
   "metadata": {},
   "outputs": [
    {
     "data": {
      "text/plain": [
       "PosixPath('/WORKSPACE/.fastai/data/mnist_png/training/8/55555.png')"
      ]
     },
     "execution_count": 8,
     "metadata": {},
     "output_type": "execute_result"
    }
   ],
   "source": [
    "il.items[0]"
   ]
  },
  {
   "cell_type": "code",
   "execution_count": 9,
   "metadata": {},
   "outputs": [],
   "source": [
    "defaults.cmap='binary'"
   ]
  },
  {
   "cell_type": "code",
   "execution_count": 10,
   "metadata": {},
   "outputs": [
    {
     "data": {
      "text/plain": [
       "ImageList (70000 items)\n",
       "Image (1, 28, 28),Image (1, 28, 28),Image (1, 28, 28),Image (1, 28, 28),Image (1, 28, 28)\n",
       "Path: /WORKSPACE/.fastai/data/mnist_png"
      ]
     },
     "execution_count": 10,
     "metadata": {},
     "output_type": "execute_result"
    }
   ],
   "source": [
    "il"
   ]
  },
  {
   "cell_type": "code",
   "execution_count": 11,
   "metadata": {},
   "outputs": [
    {
     "data": {
      "image/png": "[encoded data removed]",
      "text/plain": [
       "<Figure size 216x216 with 1 Axes>"
      ]
     },
     "metadata": {
      "needs_background": "light"
     },
     "output_type": "display_data"
    }
   ],
   "source": [
    "il[0].show()"
   ]
  },
  {
   "cell_type": "code",
   "execution_count": 13,
   "metadata": {},
   "outputs": [],
   "source": [
    "sd = il.split_by_folder(train='training', valid='testing')"
   ]
  },
  {
   "cell_type": "code",
   "execution_count": 14,
   "metadata": {},
   "outputs": [
    {
     "data": {
      "text/plain": [
       "ItemLists;\n",
       "\n",
       "Train: ImageList (60000 items)\n",
       "Image (1, 28, 28),Image (1, 28, 28),Image (1, 28, 28),Image (1, 28, 28),Image (1, 28, 28)\n",
       "Path: /WORKSPACE/.fastai/data/mnist_png;\n",
       "\n",
       "Valid: ImageList (10000 items)\n",
       "Image (1, 28, 28),Image (1, 28, 28),Image (1, 28, 28),Image (1, 28, 28),Image (1, 28, 28)\n",
       "Path: /WORKSPACE/.fastai/data/mnist_png;\n",
       "\n",
       "Test: None"
      ]
     },
     "execution_count": 14,
     "metadata": {},
     "output_type": "execute_result"
    }
   ],
   "source": [
    "sd"
   ]
  },
  {
   "cell_type": "code",
   "execution_count": 15,
   "metadata": {},
   "outputs": [
    {
     "data": {
      "text/plain": [
       "[PosixPath('/WORKSPACE/.fastai/data/mnist_png/training/8'),\n",
       " PosixPath('/WORKSPACE/.fastai/data/mnist_png/training/9'),\n",
       " PosixPath('/WORKSPACE/.fastai/data/mnist_png/training/5'),\n",
       " PosixPath('/WORKSPACE/.fastai/data/mnist_png/training/1'),\n",
       " PosixPath('/WORKSPACE/.fastai/data/mnist_png/training/4'),\n",
       " PosixPath('/WORKSPACE/.fastai/data/mnist_png/training/6'),\n",
       " PosixPath('/WORKSPACE/.fastai/data/mnist_png/training/7'),\n",
       " PosixPath('/WORKSPACE/.fastai/data/mnist_png/training/2'),\n",
       " PosixPath('/WORKSPACE/.fastai/data/mnist_png/training/0'),\n",
       " PosixPath('/WORKSPACE/.fastai/data/mnist_png/training/3')]"
      ]
     },
     "execution_count": 15,
     "metadata": {},
     "output_type": "execute_result"
    }
   ],
   "source": [
    "(path/'training').ls()"
   ]
  },
  {
   "cell_type": "code",
   "execution_count": 16,
   "metadata": {},
   "outputs": [],
   "source": [
    "ll = sd.label_from_folder()"
   ]
  },
  {
   "cell_type": "code",
   "execution_count": 17,
   "metadata": {},
   "outputs": [
    {
     "data": {
      "text/plain": [
       "LabelLists;\n",
       "\n",
       "Train: LabelList (60000 items)\n",
       "x: ImageList\n",
       "Image (1, 28, 28),Image (1, 28, 28),Image (1, 28, 28),Image (1, 28, 28),Image (1, 28, 28)\n",
       "y: CategoryList\n",
       "8,8,8,8,8\n",
       "Path: /WORKSPACE/.fastai/data/mnist_png;\n",
       "\n",
       "Valid: LabelList (10000 items)\n",
       "x: ImageList\n",
       "Image (1, 28, 28),Image (1, 28, 28),Image (1, 28, 28),Image (1, 28, 28),Image (1, 28, 28)\n",
       "y: CategoryList\n",
       "8,8,8,8,8\n",
       "Path: /WORKSPACE/.fastai/data/mnist_png;\n",
       "\n",
       "Test: None"
      ]
     },
     "execution_count": 17,
     "metadata": {},
     "output_type": "execute_result"
    }
   ],
   "source": [
    "ll"
   ]
  },
  {
   "cell_type": "code",
   "execution_count": 22,
   "metadata": {},
   "outputs": [],
   "source": [
    "x,y = ll.train[0]"
   ]
  },
  {
   "cell_type": "code",
   "execution_count": 23,
   "metadata": {},
   "outputs": [
    {
     "name": "stdout",
     "output_type": "stream",
     "text": [
      "8 torch.Size([1, 28, 28])\n"
     ]
    },
    {
     "data": {
      "image/png": "[encoded data removed]",
      "text/plain": [
       "<Figure size 216x216 with 1 Axes>"
      ]
     },
     "metadata": {
      "needs_background": "light"
     },
     "output_type": "display_data"
    }
   ],
   "source": [
    "x.show()\n",
    "print(y,x.shape)"
   ]
  },
  {
   "cell_type": "code",
   "execution_count": 24,
   "metadata": {},
   "outputs": [],
   "source": [
    "tfms = ([*rand_pad(padding=3, size=28, mode='zeros')], [])"
   ]
  },
  {
   "cell_type": "code",
   "execution_count": 26,
   "metadata": {},
   "outputs": [],
   "source": [
    "ll = ll.transform(tfms)"
   ]
  },
  {
   "cell_type": "code",
   "execution_count": 27,
   "metadata": {},
   "outputs": [],
   "source": [
    "bs = 128"
   ]
  },
  {
   "cell_type": "code",
   "execution_count": 28,
   "metadata": {},
   "outputs": [],
   "source": [
    "# not using imagenet_stats because not using pretrained model\n",
    "data = ll.databunch(bs=bs).normalize()"
   ]
  },
  {
   "cell_type": "code",
   "execution_count": 29,
   "metadata": {},
   "outputs": [],
   "source": [
    "x,y = data.train_ds[0]"
   ]
  },
  {
   "cell_type": "code",
   "execution_count": 30,
   "metadata": {},
   "outputs": [
    {
     "name": "stdout",
     "output_type": "stream",
     "text": [
      "8\n"
     ]
    },
    {
     "data": {
      "image/png": "[encoded data removed]",
      "text/plain": [
       "<Figure size 216x216 with 1 Axes>"
      ]
     },
     "metadata": {
      "needs_background": "light"
     },
     "output_type": "display_data"
    }
   ],
   "source": [
    "x.show()\n",
    "print(y)"
   ]
  },
  {
   "cell_type": "code",
   "execution_count": 31,
   "metadata": {},
   "outputs": [
    {
     "data": {
      "image/png": "[encoded data removed]",
      "text/plain": [
       "<Figure size 576x576 with 9 Axes>"
      ]
     },
     "metadata": {
      "needs_background": "light"
     },
     "output_type": "display_data"
    }
   ],
   "source": [
    "def _plot(i,j,ax): data.train_ds[0][0].show(ax, cmap='gray')\n",
    "plot_multi(_plot, 3, 3, figsize=(8,8))"
   ]
  },
  {
   "cell_type": "code",
   "execution_count": 32,
   "metadata": {},
   "outputs": [
    {
     "data": {
      "text/plain": [
       "(torch.Size([128, 1, 28, 28]), torch.Size([128]))"
      ]
     },
     "execution_count": 32,
     "metadata": {},
     "output_type": "execute_result"
    }
   ],
   "source": [
    "xb,yb = data.one_batch()\n",
    "xb.shape,yb.shape"
   ]
  },
  {
   "cell_type": "code",
   "execution_count": 33,
   "metadata": {},
   "outputs": [
    {
     "data": {
      "image/png": "[encoded data removed]",
      "text/plain": [
       "<Figure size 360x360 with 9 Axes>"
      ]
     },
     "metadata": {
      "needs_background": "light"
     },
     "output_type": "display_data"
    }
   ],
   "source": [
    "data.show_batch(rows=3, figsize=(5,5))"
   ]
  },
  {
   "cell_type": "markdown",
   "metadata": {},
   "source": [
    "### Basic CNN with batchnorm"
   ]
  },
  {
   "cell_type": "code",
   "execution_count": 34,
   "metadata": {},
   "outputs": [],
   "source": [
    "def conv(ni,nf): return nn.Conv2d(ni, nf, kernel_size=3, stride=2, padding=1)"
   ]
  },
  {
   "cell_type": "code",
   "execution_count": 35,
   "metadata": {},
   "outputs": [],
   "source": [
    "model = nn.Sequential(\n",
    "    conv(1, 8), # 14\n",
    "    nn.BatchNorm2d(8),\n",
    "    nn.ReLU(),\n",
    "    conv(8, 16), # 7\n",
    "    nn.BatchNorm2d(16),\n",
    "    nn.ReLU(),\n",
    "    conv(16, 32), # 4\n",
    "    nn.BatchNorm2d(32),\n",
    "    nn.ReLU(),\n",
    "    conv(32, 16), # 2\n",
    "    nn.BatchNorm2d(16),\n",
    "    nn.ReLU(),\n",
    "    conv(16, 10), # 1\n",
    "    nn.BatchNorm2d(10),\n",
    "    Flatten()     # remove (1,1) grid\n",
    ")"
   ]
  },
  {
   "cell_type": "code",
   "execution_count": 36,
   "metadata": {},
   "outputs": [],
   "source": [
    "learn = Learner(data, model, loss_func = nn.CrossEntropyLoss(), metrics=accuracy)"
   ]
  },
  {
   "cell_type": "code",
   "execution_count": 37,
   "metadata": {},
   "outputs": [
    {
     "name": "stdout",
     "output_type": "stream",
     "text": [
      "Sequential\n",
      "======================================================================\n",
      "Layer (type)         Output Shape         Param #    Trainable \n",
      "======================================================================\n",
      "Conv2d               [8, 14, 14]          80         True      \n",
      "______________________________________________________________________\n",
      "BatchNorm2d          [8, 14, 14]          16         True      \n",
      "______________________________________________________________________\n",
      "ReLU                 [8, 14, 14]          0          False     \n",
      "______________________________________________________________________\n",
      "Conv2d               [16, 7, 7]           1,168      True      \n",
      "______________________________________________________________________\n",
      "BatchNorm2d          [16, 7, 7]           32         True      \n",
      "______________________________________________________________________\n",
      "ReLU                 [16, 7, 7]           0          False     \n",
      "______________________________________________________________________\n",
      "Conv2d               [32, 4, 4]           4,640      True      \n",
      "______________________________________________________________________\n",
      "BatchNorm2d          [32, 4, 4]           64         True      \n",
      "______________________________________________________________________\n",
      "ReLU                 [32, 4, 4]           0          False     \n",
      "______________________________________________________________________\n",
      "Conv2d               [16, 2, 2]           4,624      True      \n",
      "______________________________________________________________________\n",
      "BatchNorm2d          [16, 2, 2]           32         True      \n",
      "______________________________________________________________________\n",
      "ReLU                 [16, 2, 2]           0          False     \n",
      "______________________________________________________________________\n",
      "Conv2d               [10, 1, 1]           1,450      True      \n",
      "______________________________________________________________________\n",
      "BatchNorm2d          [10, 1, 1]           20         True      \n",
      "______________________________________________________________________\n",
      "Flatten              [10]                 0          False     \n",
      "______________________________________________________________________\n",
      "\n",
      "Total params: 12,126\n",
      "Total trainable params: 12,126\n",
      "Total non-trainable params: 0\n",
      "Optimized with 'torch.optim.adam.Adam', betas=(0.9, 0.99)\n",
      "Using true weight decay as discussed in https://www.fast.ai/2018/07/02/adam-weight-decay/ \n",
      "Loss function : CrossEntropyLoss\n",
      "======================================================================\n",
      "Callbacks functions applied \n",
      "\n"
     ]
    }
   ],
   "source": [
    "print(learn.summary())"
   ]
  },
  {
   "cell_type": "code",
   "execution_count": 38,
   "metadata": {},
   "outputs": [],
   "source": [
    "xb = xb.cuda()"
   ]
  },
  {
   "cell_type": "code",
   "execution_count": 39,
   "metadata": {},
   "outputs": [
    {
     "data": {
      "text/plain": [
       "torch.Size([128, 10])"
      ]
     },
     "execution_count": 39,
     "metadata": {},
     "output_type": "execute_result"
    }
   ],
   "source": [
    "model(xb).shape"
   ]
  },
  {
   "cell_type": "code",
   "execution_count": 44,
   "metadata": {},
   "outputs": [
    {
     "data": {
      "text/html": [],
      "text/plain": [
       "<IPython.core.display.HTML object>"
      ]
     },
     "metadata": {},
     "output_type": "display_data"
    },
    {
     "name": "stdout",
     "output_type": "stream",
     "text": [
      "LR Finder is complete, type {learner_name}.recorder.plot() to see the graph.\n"
     ]
    }
   ],
   "source": [
    "learn.lr_find(end_lr=100)"
   ]
  },
  {
   "cell_type": "code",
   "execution_count": 45,
   "metadata": {},
   "outputs": [
    {
     "data": {
      "image/png": "[encoded data removed]",
      "text/plain": [
       "<Figure size 432x288 with 1 Axes>"
      ]
     },
     "metadata": {
      "needs_background": "light"
     },
     "output_type": "display_data"
    }
   ],
   "source": [
    "learn.recorder.plot()"
   ]
  },
  {
   "cell_type": "code",
   "execution_count": 46,
   "metadata": {},
   "outputs": [
    {
     "data": {
      "text/html": [
       "<table border=\"1\" class=\"dataframe\">\n",
       "  <thead>\n",
       "    <tr style=\"text-align: left;\">\n",
       "      <th>epoch</th>\n",
       "      <th>train_loss</th>\n",
       "      <th>valid_loss</th>\n",
       "      <th>accuracy</th>\n",
       "      <th>time</th>\n",
       "    </tr>\n",
       "  </thead>\n",
       "  <tbody>\n",
       "    <tr>\n",
       "      <td>0</td>\n",
       "      <td>0.233983</td>\n",
       "      <td>0.231421</td>\n",
       "      <td>0.925300</td>\n",
       "      <td>00:06</td>\n",
       "    </tr>\n",
       "    <tr>\n",
       "      <td>1</td>\n",
       "      <td>0.135280</td>\n",
       "      <td>0.091266</td>\n",
       "      <td>0.970700</td>\n",
       "      <td>00:05</td>\n",
       "    </tr>\n",
       "    <tr>\n",
       "      <td>2</td>\n",
       "      <td>0.072797</td>\n",
       "      <td>0.043692</td>\n",
       "      <td>0.985600</td>\n",
       "      <td>00:05</td>\n",
       "    </tr>\n",
       "  </tbody>\n",
       "</table>"
      ],
      "text/plain": [
       "<IPython.core.display.HTML object>"
      ]
     },
     "metadata": {},
     "output_type": "display_data"
    }
   ],
   "source": [
    "learn.fit_one_cycle(3, max_lr=0.1)"
   ]
  },
  {
   "cell_type": "markdown",
   "metadata": {},
   "source": [
    "### Refactor"
   ]
  },
  {
   "cell_type": "code",
   "execution_count": 50,
   "metadata": {},
   "outputs": [],
   "source": [
    "def conv2(ni,nf): return conv_layer(ni,nf,stride=2)"
   ]
  },
  {
   "cell_type": "code",
   "execution_count": 51,
   "metadata": {},
   "outputs": [],
   "source": [
    "model = nn.Sequential(\n",
    "    conv2(1, 8),   # 14\n",
    "    conv2(8, 16),  # 7\n",
    "    conv2(16, 32), # 4\n",
    "    conv2(32, 16), # 2\n",
    "    conv2(16, 10), # 1\n",
    "    Flatten()      # remove (1,1) grid\n",
    ")"
   ]
  },
  {
   "cell_type": "code",
   "execution_count": 52,
   "metadata": {},
   "outputs": [],
   "source": [
    "learn = Learner(data, model, loss_func = nn.CrossEntropyLoss(), metrics=accuracy)"
   ]
  },
  {
   "cell_type": "code",
   "execution_count": 53,
   "metadata": {},
   "outputs": [
    {
     "data": {
      "text/html": [
       "<table border=\"1\" class=\"dataframe\">\n",
       "  <thead>\n",
       "    <tr style=\"text-align: left;\">\n",
       "      <th>epoch</th>\n",
       "      <th>train_loss</th>\n",
       "      <th>valid_loss</th>\n",
       "      <th>accuracy</th>\n",
       "      <th>time</th>\n",
       "    </tr>\n",
       "  </thead>\n",
       "  <tbody>\n",
       "    <tr>\n",
       "      <td>0</td>\n",
       "      <td>0.237203</td>\n",
       "      <td>0.125666</td>\n",
       "      <td>0.962700</td>\n",
       "      <td>00:05</td>\n",
       "    </tr>\n",
       "    <tr>\n",
       "      <td>1</td>\n",
       "      <td>0.188067</td>\n",
       "      <td>0.217132</td>\n",
       "      <td>0.932100</td>\n",
       "      <td>00:05</td>\n",
       "    </tr>\n",
       "    <tr>\n",
       "      <td>2</td>\n",
       "      <td>0.155822</td>\n",
       "      <td>0.162861</td>\n",
       "      <td>0.951200</td>\n",
       "      <td>00:05</td>\n",
       "    </tr>\n",
       "    <tr>\n",
       "      <td>3</td>\n",
       "      <td>0.151602</td>\n",
       "      <td>0.151880</td>\n",
       "      <td>0.950700</td>\n",
       "      <td>00:05</td>\n",
       "    </tr>\n",
       "    <tr>\n",
       "      <td>4</td>\n",
       "      <td>0.131411</td>\n",
       "      <td>0.082485</td>\n",
       "      <td>0.973600</td>\n",
       "      <td>00:05</td>\n",
       "    </tr>\n",
       "    <tr>\n",
       "      <td>5</td>\n",
       "      <td>0.101665</td>\n",
       "      <td>0.086307</td>\n",
       "      <td>0.971300</td>\n",
       "      <td>00:05</td>\n",
       "    </tr>\n",
       "    <tr>\n",
       "      <td>6</td>\n",
       "      <td>0.080186</td>\n",
       "      <td>0.049313</td>\n",
       "      <td>0.985300</td>\n",
       "      <td>00:05</td>\n",
       "    </tr>\n",
       "    <tr>\n",
       "      <td>7</td>\n",
       "      <td>0.066407</td>\n",
       "      <td>0.040564</td>\n",
       "      <td>0.986800</td>\n",
       "      <td>00:05</td>\n",
       "    </tr>\n",
       "    <tr>\n",
       "      <td>8</td>\n",
       "      <td>0.053911</td>\n",
       "      <td>0.030214</td>\n",
       "      <td>0.990400</td>\n",
       "      <td>00:05</td>\n",
       "    </tr>\n",
       "    <tr>\n",
       "      <td>9</td>\n",
       "      <td>0.040965</td>\n",
       "      <td>0.026889</td>\n",
       "      <td>0.991600</td>\n",
       "      <td>00:05</td>\n",
       "    </tr>\n",
       "  </tbody>\n",
       "</table>"
      ],
      "text/plain": [
       "<IPython.core.display.HTML object>"
      ]
     },
     "metadata": {},
     "output_type": "display_data"
    }
   ],
   "source": [
    "learn.fit_one_cycle(10, max_lr=0.1)"
   ]
  },
  {
   "cell_type": "markdown",
   "metadata": {},
   "source": [
    "### Resnet-ish"
   ]
  },
  {
   "cell_type": "code",
   "execution_count": 54,
   "metadata": {},
   "outputs": [],
   "source": [
    "class ResBlock(nn.Module):\n",
    "    def __init__(self, nf):\n",
    "        super().__init__()\n",
    "        self.conv1 = conv_layer(nf,nf)\n",
    "        self.conv2 = conv_layer(nf,nf)\n",
    "        \n",
    "    def forward(self, x): return x + self.conv2(self.conv1(x))"
   ]
  },
  {
   "cell_type": "code",
   "execution_count": 55,
   "metadata": {},
   "outputs": [
    {
     "name": "stdout",
     "output_type": "stream",
     "text": [
      "Help on function res_block in module fastai.layers:\n",
      "\n",
      "res_block(nf, dense:bool=False, norm_type:Union[fastai.layers.NormType, NoneType]=<NormType.Batch: 1>, bottle:bool=False, **conv_kwargs)\n",
      "    Resnet block of `nf` features. `conv_kwargs` are passed to `conv_layer`.\n",
      "\n"
     ]
    }
   ],
   "source": [
    "help(res_block)"
   ]
  },
  {
   "cell_type": "code",
   "execution_count": 56,
   "metadata": {},
   "outputs": [],
   "source": [
    "model = nn.Sequential(\n",
    "    conv2(1, 8),\n",
    "    res_block(8),\n",
    "    conv2(8, 16),\n",
    "    res_block(16),\n",
    "    conv2(16, 32),\n",
    "    res_block(32),\n",
    "    conv2(32, 16),\n",
    "    res_block(16),\n",
    "    conv2(16, 10),\n",
    "    Flatten()\n",
    ")"
   ]
  },
  {
   "cell_type": "code",
   "execution_count": 57,
   "metadata": {},
   "outputs": [],
   "source": [
    "def conv_and_res(ni,nf): return nn.Sequential(conv2(ni, nf), res_block(nf))"
   ]
  },
  {
   "cell_type": "code",
   "execution_count": 58,
   "metadata": {},
   "outputs": [],
   "source": [
    "model = nn.Sequential(\n",
    "    conv_and_res(1, 8),\n",
    "    conv_and_res(8, 16),\n",
    "    conv_and_res(16, 32),\n",
    "    conv_and_res(32, 16),\n",
    "    conv2(16, 10),\n",
    "    Flatten()\n",
    ")"
   ]
  },
  {
   "cell_type": "code",
   "execution_count": 59,
   "metadata": {},
   "outputs": [],
   "source": [
    "learn = Learner(data, model, loss_func = nn.CrossEntropyLoss(), metrics=accuracy)"
   ]
  },
  {
   "cell_type": "code",
   "execution_count": 60,
   "metadata": {},
   "outputs": [
    {
     "data": {
      "text/html": [],
      "text/plain": [
       "<IPython.core.display.HTML object>"
      ]
     },
     "metadata": {},
     "output_type": "display_data"
    },
    {
     "name": "stdout",
     "output_type": "stream",
     "text": [
      "LR Finder is complete, type {learner_name}.recorder.plot() to see the graph.\n"
     ]
    },
    {
     "data": {
      "image/png": "[encoded data removed]",
      "text/plain": [
       "<Figure size 432x288 with 1 Axes>"
      ]
     },
     "metadata": {
      "needs_background": "light"
     },
     "output_type": "display_data"
    }
   ],
   "source": [
    "learn.lr_find(end_lr=100)\n",
    "learn.recorder.plot()"
   ]
  },
  {
   "cell_type": "code",
   "execution_count": 61,
   "metadata": {},
   "outputs": [
    {
     "data": {
      "text/html": [
       "<table border=\"1\" class=\"dataframe\">\n",
       "  <thead>\n",
       "    <tr style=\"text-align: left;\">\n",
       "      <th>epoch</th>\n",
       "      <th>train_loss</th>\n",
       "      <th>valid_loss</th>\n",
       "      <th>accuracy</th>\n",
       "      <th>time</th>\n",
       "    </tr>\n",
       "  </thead>\n",
       "  <tbody>\n",
       "    <tr>\n",
       "      <td>0</td>\n",
       "      <td>0.668039</td>\n",
       "      <td>0.451619</td>\n",
       "      <td>0.945400</td>\n",
       "      <td>00:08</td>\n",
       "    </tr>\n",
       "    <tr>\n",
       "      <td>1</td>\n",
       "      <td>0.179994</td>\n",
       "      <td>0.149180</td>\n",
       "      <td>0.960400</td>\n",
       "      <td>00:08</td>\n",
       "    </tr>\n",
       "    <tr>\n",
       "      <td>2</td>\n",
       "      <td>0.116156</td>\n",
       "      <td>0.152332</td>\n",
       "      <td>0.949500</td>\n",
       "      <td>00:08</td>\n",
       "    </tr>\n",
       "    <tr>\n",
       "      <td>3</td>\n",
       "      <td>0.085126</td>\n",
       "      <td>0.057429</td>\n",
       "      <td>0.984400</td>\n",
       "      <td>00:08</td>\n",
       "    </tr>\n",
       "    <tr>\n",
       "      <td>4</td>\n",
       "      <td>0.066934</td>\n",
       "      <td>0.057509</td>\n",
       "      <td>0.981400</td>\n",
       "      <td>00:08</td>\n",
       "    </tr>\n",
       "    <tr>\n",
       "      <td>5</td>\n",
       "      <td>0.056006</td>\n",
       "      <td>0.037458</td>\n",
       "      <td>0.988200</td>\n",
       "      <td>00:08</td>\n",
       "    </tr>\n",
       "    <tr>\n",
       "      <td>6</td>\n",
       "      <td>0.052555</td>\n",
       "      <td>0.031268</td>\n",
       "      <td>0.990200</td>\n",
       "      <td>00:09</td>\n",
       "    </tr>\n",
       "    <tr>\n",
       "      <td>7</td>\n",
       "      <td>0.034370</td>\n",
       "      <td>0.024724</td>\n",
       "      <td>0.992200</td>\n",
       "      <td>00:08</td>\n",
       "    </tr>\n",
       "    <tr>\n",
       "      <td>8</td>\n",
       "      <td>0.031555</td>\n",
       "      <td>0.019145</td>\n",
       "      <td>0.994300</td>\n",
       "      <td>00:08</td>\n",
       "    </tr>\n",
       "    <tr>\n",
       "      <td>9</td>\n",
       "      <td>0.024727</td>\n",
       "      <td>0.019178</td>\n",
       "      <td>0.993400</td>\n",
       "      <td>00:08</td>\n",
       "    </tr>\n",
       "    <tr>\n",
       "      <td>10</td>\n",
       "      <td>0.021342</td>\n",
       "      <td>0.017854</td>\n",
       "      <td>0.994600</td>\n",
       "      <td>00:08</td>\n",
       "    </tr>\n",
       "    <tr>\n",
       "      <td>11</td>\n",
       "      <td>0.018156</td>\n",
       "      <td>0.017390</td>\n",
       "      <td>0.995100</td>\n",
       "      <td>00:08</td>\n",
       "    </tr>\n",
       "  </tbody>\n",
       "</table>"
      ],
      "text/plain": [
       "<IPython.core.display.HTML object>"
      ]
     },
     "metadata": {},
     "output_type": "display_data"
    }
   ],
   "source": [
    "learn.fit_one_cycle(12, max_lr=0.01)"
   ]
  },
  {
   "cell_type": "code",
   "execution_count": null,
   "metadata": {},
   "outputs": [
    {
     "data": {
      "text/html": [
       "Total time: 02:00 <p><table style='width:300px; margin-bottom:10px'>\n",
       "  <tr>\n",
       "    <th>epoch</th>\n",
       "    <th>train_loss</th>\n",
       "    <th>valid_loss</th>\n",
       "    <th>accuracy</th>\n",
       "  </tr>\n",
       "  <tr>\n",
       "    <th>1</th>\n",
       "    <th>0.248807</th>\n",
       "    <th>0.121582</th>\n",
       "    <th>0.972800</th>\n",
       "  </tr>\n",
       "  <tr>\n",
       "    <th>2</th>\n",
       "    <th>0.120927</th>\n",
       "    <th>0.360583</th>\n",
       "    <th>0.890300</th>\n",
       "  </tr>\n",
       "  <tr>\n",
       "    <th>3</th>\n",
       "    <th>0.104013</th>\n",
       "    <th>0.074916</th>\n",
       "    <th>0.977800</th>\n",
       "  </tr>\n",
       "  <tr>\n",
       "    <th>4</th>\n",
       "    <th>0.081181</th>\n",
       "    <th>0.065717</th>\n",
       "    <th>0.980000</th>\n",
       "  </tr>\n",
       "  <tr>\n",
       "    <th>5</th>\n",
       "    <th>0.068514</th>\n",
       "    <th>0.096448</th>\n",
       "    <th>0.967200</th>\n",
       "  </tr>\n",
       "  <tr>\n",
       "    <th>6</th>\n",
       "    <th>0.061274</th>\n",
       "    <th>0.087955</th>\n",
       "    <th>0.971800</th>\n",
       "  </tr>\n",
       "  <tr>\n",
       "    <th>7</th>\n",
       "    <th>0.051673</th>\n",
       "    <th>0.033911</th>\n",
       "    <th>0.989400</th>\n",
       "  </tr>\n",
       "  <tr>\n",
       "    <th>8</th>\n",
       "    <th>0.048090</th>\n",
       "    <th>0.033234</th>\n",
       "    <th>0.988800</th>\n",
       "  </tr>\n",
       "  <tr>\n",
       "    <th>9</th>\n",
       "    <th>0.039095</th>\n",
       "    <th>0.024638</th>\n",
       "    <th>0.992400</th>\n",
       "  </tr>\n",
       "  <tr>\n",
       "    <th>10</th>\n",
       "    <th>0.023670</th>\n",
       "    <th>0.021215</th>\n",
       "    <th>0.993400</th>\n",
       "  </tr>\n",
       "  <tr>\n",
       "    <th>11</th>\n",
       "    <th>0.019128</th>\n",
       "    <th>0.016159</th>\n",
       "    <th>0.994500</th>\n",
       "  </tr>\n",
       "  <tr>\n",
       "    <th>12</th>\n",
       "    <th>0.021365</th>\n",
       "    <th>0.016120</th>\n",
       "    <th>0.995200</th>\n",
       "  </tr>\n",
       "</table>\n"
      ],
      "text/plain": [
       "<IPython.core.display.HTML object>"
      ]
     },
     "metadata": {},
     "output_type": "display_data"
    }
   ],
   "source": [
    "learn.fit_one_cycle(12, max_lr=0.05)"
   ]
  },
  {
   "cell_type": "code",
   "execution_count": 62,
   "metadata": {
    "scrolled": true
   },
   "outputs": [
    {
     "name": "stdout",
     "output_type": "stream",
     "text": [
      "Sequential\n",
      "======================================================================\n",
      "Layer (type)         Output Shape         Param #    Trainable \n",
      "======================================================================\n",
      "Conv2d               [8, 14, 14]          72         True      \n",
      "______________________________________________________________________\n",
      "ReLU                 [8, 14, 14]          0          False     \n",
      "______________________________________________________________________\n",
      "BatchNorm2d          [8, 14, 14]          16         True      \n",
      "______________________________________________________________________\n",
      "Conv2d               [8, 14, 14]          576        True      \n",
      "______________________________________________________________________\n",
      "ReLU                 [8, 14, 14]          0          False     \n",
      "______________________________________________________________________\n",
      "BatchNorm2d          [8, 14, 14]          16         True      \n",
      "______________________________________________________________________\n",
      "Conv2d               [8, 14, 14]          576        True      \n",
      "______________________________________________________________________\n",
      "ReLU                 [8, 14, 14]          0          False     \n",
      "______________________________________________________________________\n",
      "BatchNorm2d          [8, 14, 14]          16         True      \n",
      "______________________________________________________________________\n",
      "MergeLayer           [8, 14, 14]          0          False     \n",
      "______________________________________________________________________\n",
      "Conv2d               [16, 7, 7]           1,152      True      \n",
      "______________________________________________________________________\n",
      "ReLU                 [16, 7, 7]           0          False     \n",
      "______________________________________________________________________\n",
      "BatchNorm2d          [16, 7, 7]           32         True      \n",
      "______________________________________________________________________\n",
      "Conv2d               [16, 7, 7]           2,304      True      \n",
      "______________________________________________________________________\n",
      "ReLU                 [16, 7, 7]           0          False     \n",
      "______________________________________________________________________\n",
      "BatchNorm2d          [16, 7, 7]           32         True      \n",
      "______________________________________________________________________\n",
      "Conv2d               [16, 7, 7]           2,304      True      \n",
      "______________________________________________________________________\n",
      "ReLU                 [16, 7, 7]           0          False     \n",
      "______________________________________________________________________\n",
      "BatchNorm2d          [16, 7, 7]           32         True      \n",
      "______________________________________________________________________\n",
      "MergeLayer           [16, 7, 7]           0          False     \n",
      "______________________________________________________________________\n",
      "Conv2d               [32, 4, 4]           4,608      True      \n",
      "______________________________________________________________________\n",
      "ReLU                 [32, 4, 4]           0          False     \n",
      "______________________________________________________________________\n",
      "BatchNorm2d          [32, 4, 4]           64         True      \n",
      "______________________________________________________________________\n",
      "Conv2d               [32, 4, 4]           9,216      True      \n",
      "______________________________________________________________________\n",
      "ReLU                 [32, 4, 4]           0          False     \n",
      "______________________________________________________________________\n",
      "BatchNorm2d          [32, 4, 4]           64         True      \n",
      "______________________________________________________________________\n",
      "Conv2d               [32, 4, 4]           9,216      True      \n",
      "______________________________________________________________________\n",
      "ReLU                 [32, 4, 4]           0          False     \n",
      "______________________________________________________________________\n",
      "BatchNorm2d          [32, 4, 4]           64         True      \n",
      "______________________________________________________________________\n",
      "MergeLayer           [32, 4, 4]           0          False     \n",
      "______________________________________________________________________\n",
      "Conv2d               [16, 2, 2]           4,608      True      \n",
      "______________________________________________________________________\n",
      "ReLU                 [16, 2, 2]           0          False     \n",
      "______________________________________________________________________\n",
      "BatchNorm2d          [16, 2, 2]           32         True      \n",
      "______________________________________________________________________\n",
      "Conv2d               [16, 2, 2]           2,304      True      \n",
      "______________________________________________________________________\n",
      "ReLU                 [16, 2, 2]           0          False     \n",
      "______________________________________________________________________\n",
      "BatchNorm2d          [16, 2, 2]           32         True      \n",
      "______________________________________________________________________\n",
      "Conv2d               [16, 2, 2]           2,304      True      \n",
      "______________________________________________________________________\n",
      "ReLU                 [16, 2, 2]           0          False     \n",
      "______________________________________________________________________\n",
      "BatchNorm2d          [16, 2, 2]           32         True      \n",
      "______________________________________________________________________\n",
      "MergeLayer           [16, 2, 2]           0          False     \n",
      "______________________________________________________________________\n",
      "Conv2d               [10, 1, 1]           1,440      True      \n",
      "______________________________________________________________________\n",
      "ReLU                 [10, 1, 1]           0          False     \n",
      "______________________________________________________________________\n",
      "BatchNorm2d          [10, 1, 1]           20         True      \n",
      "______________________________________________________________________\n",
      "Flatten              [10]                 0          False     \n",
      "______________________________________________________________________\n",
      "\n",
      "Total params: 41,132\n",
      "Total trainable params: 41,132\n",
      "Total non-trainable params: 0\n",
      "Optimized with 'torch.optim.adam.Adam', betas=(0.9, 0.99)\n",
      "Using true weight decay as discussed in https://www.fast.ai/2018/07/02/adam-weight-decay/ \n",
      "Loss function : CrossEntropyLoss\n",
      "======================================================================\n",
      "Callbacks functions applied \n",
      "\n"
     ]
    }
   ],
   "source": [
    "print(learn.summary())"
   ]
  },
  {
   "cell_type": "markdown",
   "metadata": {},
   "source": [
    "## fin"
   ]
  },
  {
   "cell_type": "code",
   "execution_count": null,
   "metadata": {},
   "outputs": [],
   "source": []
  }
 ],
 "metadata": {
  "kernelspec": {
   "display_name": "Python 3",
   "language": "python",
   "name": "python3"
  },
  "language_info": {
   "codemirror_mode": {
    "name": "ipython",
    "version": 3
   },
   "file_extension": ".py",
   "mimetype": "text/x-python",
   "name": "python",
   "nbconvert_exporter": "python",
   "pygments_lexer": "ipython3",
   "version": "3.6.8"
  }
 },
 "nbformat": 4,
 "nbformat_minor": 1
}
